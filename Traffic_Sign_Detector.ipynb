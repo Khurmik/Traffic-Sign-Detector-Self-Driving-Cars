{
 "cells": [
  {
   "cell_type": "code",
   "execution_count": null,
   "metadata": {},
   "outputs": [],
   "source": [
    "#Load The Data\n",
    "import pickle\n",
    "training_file   = 'traffic-signs-data/train.p'\n",
    "validation_file = 'traffic-signs-data/valid.p'\n",
    "test_file       = 'traffic-signs-data/test.p'\n",
    "\n",
    "with open(training_file , mode='rb') as f:\n",
    "    train = pickle.load(f)\n",
    "with open(validation_file, mode='rb') as f:\n",
    "    valid = pickle.load(f)\n",
    "with open(test_file, mode='rb') as f:\n",
    "    test  = pickle.load(f)\n",
    "    \n",
    "X_train,Y_train   = train['features'], train['labels']\n",
    "X_valid,Y_valid   = valid['features'], valid['labels']\n",
    "X_test, Y_test    = test['features'] , test['labels']\n",
    "\n"
   ]
  },
  {
   "cell_type": "code",
   "execution_count": null,
   "metadata": {},
   "outputs": [],
   "source": [
    "import numpy as np\n",
    "# Summary to see what is available in the data\n",
    "n_train   = X_train.shape[0]\n",
    "n_valid   = X_valid.shape[0]\n",
    "n_test    = X_test.shape[0]\n",
    "n_images  = X_train.shape[1:]\n",
    "n_classes = len(np.unique(Y_train))\n",
    "\n",
    "print(\"Number of training examples =\", n_train)\n",
    "print(\"Number of validation examples\",n_valid)\n",
    "print(\"Number of testing examples =\", n_test)\n",
    "print(\"Image data shape =\", n_images)\n",
    "print(\"Number of classes =\", n_classes)"
   ]
  },
  {
   "cell_type": "code",
   "execution_count": null,
   "metadata": {},
   "outputs": [],
   "source": [
    "#Data Visualization\n",
    "import matplotlib.pyplot as plt\n",
    "import csv\n",
    "labels = []\n",
    "with open('signnames.csv','r') as f:\n",
    "    read_csv = csv.reader(f, delimiter=',')\n",
    "    next(read_csv)\n",
    "    \n",
    "    for row in read_csv:\n",
    "        labels += [row[1]]\n",
    "        \n",
    "plt.figure(figsize=(15,30))\n",
    "num_classes = []\n",
    "for i in range(0, n_classes):\n",
    "    plt.subplot(15,4,i+1)\n",
    "    select = X_train[Y_train == i]\n",
    "    plt.imshow(select[0,:,:,:])\n",
    "    plt.title(labels[i])\n",
    "    plt.axis('off')\n",
    "    num_classes.append(len(select))\n",
    "plt.show()"
   ]
  },
  {
   "cell_type": "code",
   "execution_count": null,
   "metadata": {},
   "outputs": [],
   "source": [
    "#Preprocessing The Images\n",
    "from sklearn.utils import shuffle\n",
    "X_train, Y_train = shuffle(X_train,Y_train)"
   ]
  },
  {
   "cell_type": "code",
   "execution_count": null,
   "metadata": {},
   "outputs": [],
   "source": [
    "#Preprocessing The Images\n",
    "def preprocessing_images(image_set):\n",
    "    image_shape       = X_train.shape[1:]\n",
    "    new_image         = image_shape[0:2] + (1,)\n",
    "    prepare_image_set = np.empty(shape=(len(image_set),) + new_image , dtype=int) \n",
    "    for i in range(0 , len(image_set)):\n",
    "        normalize_img         = cv2.normalize(image_set[i] , np.zeros(new_image[0:2]), 0, 255, cv2.NORM_MINMAX)\n",
    "        gray_image            = cv2.cvtColor(normalize_img, cv2.COLOR_RGB2GRAY)\n",
    "        prepare_image_set[i]  = np.reshape(gray_image, new_image)\n",
    "    return prepare_image_set"
   ]
  },
  {
   "cell_type": "code",
   "execution_count": null,
   "metadata": {},
   "outputs": [],
   "source": [
    "import cv2\n",
    "X_train_pre  = preprocessing_images(X_train)\n",
    "X_valid_pre  = preprocessing_images(X_valid)\n",
    "X_test_pre   = preprocessing_images(X_test)"
   ]
  },
  {
   "cell_type": "code",
   "execution_count": null,
   "metadata": {},
   "outputs": [],
   "source": [
    "image_shape_prep = X_train_pre[0].shape\n"
   ]
  },
  {
   "cell_type": "code",
   "execution_count": null,
   "metadata": {},
   "outputs": [],
   "source": [
    "#Model Architecture\n",
    "import tensorflow as tf\n",
    "from tensorflow.contrib.layers import flatten\n",
    "def leNet(x, channels, classes, keep_prob, mu=0, sigma=0.01):\n",
    "    #Layer 1\n",
    "    conv1_W  = tf.Variable(tf.truncated_normal(shape=(5,5,channels,6), mean = mu, stddev = sigma))\n",
    "    conv1_b  = tf.Variable(tf.zeros(6))\n",
    "    conv1    = tf.nn.conv2d(x, conv1_W, strides=[1,1,1,1],padding='VALID') + conv1_b\n",
    "    #Layer 1 Activattion\n",
    "    conv1    = tf.nn.relu(conv1)\n",
    "    #Layer 1 Pooling\n",
    "    conv1    = tf.nn.max_pool(conv1 , ksize=[1,2,2,1], strides= [1,2,2,1], padding='VALID')\n",
    "    \n",
    "    #Layer 2\n",
    "    conv2_W  = tf.Variable(tf.truncated_normal(shape=(5,5,6,16),mean=mu, stddev = sigma))\n",
    "    conv2_b  = tf.Variable(tf.zeros(16))\n",
    "    conv2    = tf.nn.conv2d(conv1, conv2_W, strides=[1,1,1,1], padding='VALID') + conv2_b\n",
    "    #Layer 2 Activation\n",
    "    conv2    = tf.nn.relu(conv2)\n",
    "    #Layer 2 Pooling\n",
    "    conv2    = tf.nn.max_pool(conv2, ksize=[1,2,2,1] , strides=[1,2,2,1], padding='VALID')\n",
    "    \n",
    "    #Flatten And Dropout\n",
    "    fc0      = flatten(conv2)\n",
    "    fc0      = tf.nn.dopout(fc0, keep_prob=keep_prob)\n",
    "    #Fully Connected Layer 1\n",
    "    fc1_W      = tf.Variable(tf.truncated_normal(shape=(400,120),mean=mu, stddev=sigma))\n",
    "    fc1_b      = tf.Variable(tf.zeros(120))\n",
    "    fc1        = tf.matmul(fc0 , fc1_W) + fc1_b\n",
    "    \n",
    "    fc1        = tf.nn.relu(fc1)\n",
    "    #Fully Connected Layer 2\n",
    "    fc2_W      = tf.Variable(tf.truncated_normal(shape=(120,84),mean=mu, stddev=sigma))\n",
    "    fc2_b      = tf.Variable(tf.zeros(84))\n",
    "    fc2        = tf.matmul(fc1 , fc2_W) + fc2_b\n",
    "    fc2        = tf.matmul(fc2)\n",
    "    #Fully Connected Layer 3\n",
    "    fc3_W  = tf.Variable(tf.truncated_normal(shape=(84, classes), mean = mu, stddev = sigma))\n",
    "    fc3_b  = tf.Variable(tf.zeros(classes))\n",
    "    logits = tf.matmul(fc2, fc3_W) + fc3_b\n",
    "    \n",
    "    return logits"
   ]
  },
  {
   "cell_type": "code",
   "execution_count": null,
   "metadata": {},
   "outputs": [],
   "source": []
  },
  {
   "cell_type": "code",
   "execution_count": null,
   "metadata": {},
   "outputs": [],
   "source": [
    "x = tf.placeholder(tf.float32, (None,) + image_shape_prep)\n",
    "y = tf.placeholder(tf.int32, (None))\n",
    "one_hot_y = tf.one_hot(y, n_classes)\n",
    "RATE = 0.0008\n",
    "EPOCHS = 30\n",
    "BATCH_SIZE = 128\n",
    "KEEP_PROB = 0.7\n",
    "STDDEV = 0.01\n",
    "\n",
    "keep_prob = tf.placeholder(tf.float32)\n",
    "logits = leNet(x, image_shape_prep[-1], n_classes, keep_prob, sigma=STDDEV)\n",
    "cross_entropy = tf.nn.softmax_cross_entropy_with_logits(labels=one_hot_y, logits=logits)\n",
    "loss_operation = tf.reduce_mean(cross_entropy)\n",
    "optimizer = tf.train.AdamOptimizer(learning_rate = RATE)\n",
    "training_operation = optimizer.minimize(loss_operation)"
   ]
  },
  {
   "cell_type": "code",
   "execution_count": null,
   "metadata": {},
   "outputs": [],
   "source": [
    "#Evaluation\n",
    "\n",
    "correct_prediction = tf.equal(tf.argmax(logits, 1), tf.argmax(one_hot_y, 1))\n",
    "accuracy_operation = tf.reduce_mean(tf.cast(correct_prediction, tf.float32))\n",
    "saver = tf.train.Saver()\n",
    "\n",
    "def evaluate(X_data, y_data):\n",
    "    num_examples = len(X_data)\n",
    "    total_accuracy = 0\n",
    "    sess = tf.get_default_session()\n",
    "    for offset in range(0, num_examples, BATCH_SIZE):\n",
    "        batch_x, batch_y = X_data[offset:offset+BATCH_SIZE], y_data[offset:offset+BATCH_SIZE]\n",
    "        accuracy = sess.run(accuracy_operation, feed_dict={x: batch_x, y: batch_y, keep_prob: 1})\n",
    "        total_accuracy += (accuracy * len(batch_x))\n",
    "    return total_accuracy / num_examples"
   ]
  },
  {
   "cell_type": "code",
   "execution_count": null,
   "metadata": {},
   "outputs": [],
   "source": [
    "#Training\n",
    "with tf.Session() as sess:\n",
    "    sess.run(tf.global_variables_initializer())\n",
    "    num_examples = len(X_train_prep)\n",
    "    \n",
    "    print(\"Training...\")\n",
    "    print()\n",
    "    for i in range(EPOCHS):\n",
    "        X_train_prep, y_train_prep = shuffle(X_train_prep, y_train_prep)\n",
    "        for offset in range(0, num_examples, BATCH_SIZE):\n",
    "            end = offset + BATCH_SIZE\n",
    "            batch_x, batch_y = X_train_prep[offset:end], y_train_prep[offset:end]\n",
    "            sess.run(training_operation, feed_dict={x: batch_x, y: batch_y, keep_prob: KEEP_PROB})\n",
    "            \n",
    "        train_accuracy = evaluate(X_train_prep, y_train_prep)    \n",
    "        validation_accuracy = evaluate(X_valid_prep, y_valid_prep)\n",
    "        print(\"EPOCH {} ...\".format(i+1))\n",
    "        print(\"Train Accuracy = {:.3f}\".format(train_accuracy))\n",
    "        print(\"Validation Accuracy = {:.3f}\".format(validation_accuracy))\n",
    "        print()\n",
    "        \n",
    "    saver.save(sess, './model.ckpt')\n",
    "    print(\"Model saved\")"
   ]
  },
  {
   "cell_type": "code",
   "execution_count": null,
   "metadata": {},
   "outputs": [],
   "source": [
    "#Testing\n",
    "with tf.Session() as sess:\n",
    "    saver.restore(sess, './model.ckpt')\n",
    "\n",
    "    test_accuracy = evaluate(X_test_prep, y_test_prep)\n",
    "    print(\"Test Accuracy = {:.3f}\".format(test_accuracy))"
   ]
  }
 ],
 "metadata": {
  "kernelspec": {
   "display_name": "Python 3",
   "language": "python",
   "name": "python3"
  },
  "language_info": {
   "codemirror_mode": {
    "name": "ipython",
    "version": 3
   },
   "file_extension": ".py",
   "mimetype": "text/x-python",
   "name": "python",
   "nbconvert_exporter": "python",
   "pygments_lexer": "ipython3",
   "version": "3.8.5"
  }
 },
 "nbformat": 4,
 "nbformat_minor": 4
}
